{
 "cells": [
  {
   "cell_type": "markdown",
   "metadata": {},
   "source": [
    "### Dictionaries\n",
    "\n",
    "A dictionary in python is a data structure consisting of unordered key value pairs.  You can think of it as a look up table. \n",
    "\n",
    "To illustrate, we'll create a look up table for the caffeine content in various beverages, using data from the mayo clinic website.\n",
    "\n",
    "https://www.mayoclinic.org/healthy-lifestyle/nutrition-and-healthy-eating/in-depth/caffeine/art-20049372\n",
    "\n"
   ]
  },
  {
   "cell_type": "code",
   "execution_count": null,
   "metadata": {},
   "outputs": [],
   "source": [
    "caffeine_levels = {'coffee': 165, 'tea': 48, 'cola': 46, 'energy drink': 164}"
   ]
  },
  {
   "cell_type": "markdown",
   "metadata": {},
   "source": [
    "The caffeine levels dictionary above allows us to look up the caffeine content in milligrams based on the name of the beverage.  In this example, we refer to the beverage name as the **key**, and the caffeine content as the **value**.  "
   ]
  },
  {
   "cell_type": "code",
   "execution_count": null,
   "metadata": {},
   "outputs": [],
   "source": [
    "caffeine_levels['coffee']"
   ]
  },
  {
   "cell_type": "code",
   "execution_count": null,
   "metadata": {},
   "outputs": [],
   "source": [
    "caffeine_levels['tea']"
   ]
  },
  {
   "cell_type": "markdown",
   "metadata": {
    "collapsed": true
   },
   "source": [
    "So far, we've created a simple but useful lookup table that uses a string (name) as the key, and an integer (content) as the value.  We can use this flat table to represent more involved data.  For example, we could represent max and min values to show a range of caffeine content."
   ]
  },
  {
   "cell_type": "code",
   "execution_count": null,
   "metadata": {},
   "outputs": [],
   "source": [
    "caffeine_max_min = {'coffee_max': 165, 'coffee_min': 95, 'tea_max': 48, 'tea_min': 45}"
   ]
  },
  {
   "cell_type": "markdown",
   "metadata": {
    "collapsed": true
   },
   "source": [
    "This works, but it can become unwieldy for extensive and elaborate data structures.  Note that you are not limited to primitives or strings values (or keys) in a python dictionary.  This allows you to nest more complex data structures within a key value pair.  For example, we nest a dictionary inside a list, and vice versa.  \n",
    "\n",
    "In the example below, we use a list and dictionary to store more elaborate information about different sub types of caffeinated drinks.  "
   ]
  },
  {
   "cell_type": "code",
   "execution_count": null,
   "metadata": {},
   "outputs": [],
   "source": [
    "caffeinated_drinks = {\n",
    "        'coffee': \n",
    "        [{'type': 'brewed', 'size': 8, 'max': 165, 'min': 95}, \n",
    "        {'type': 'brewed, decaf', 'size': 8, 'max': 5, 'min': 2},\n",
    "        {'type': 'espresso', 'size': 1, 'max': 64, 'min': 47},\n",
    "        ],\n",
    "        'tea': \n",
    "        [{'type': 'brewed black','size': 8, 'max': 48, 'min': 25}, \n",
    "        {'type': 'brewed black, decaf', 'size': 8, 'max': 5, 'min': 2},\n",
    "        {'type': 'brewed green', 'size': 1, 'max': 29, 'min': 25},\n",
    "        ]\n",
    "    }"
   ]
  },
  {
   "cell_type": "code",
   "execution_count": null,
   "metadata": {},
   "outputs": [],
   "source": [
    "caffeinated_drinks"
   ]
  },
  {
   "cell_type": "markdown",
   "metadata": {},
   "source": [
    "We can now use the key \"coffee\" to look up the caffeine content of coffee related drinks.  However, we now recieve a list rather than a scalar value.  "
   ]
  },
  {
   "cell_type": "code",
   "execution_count": null,
   "metadata": {},
   "outputs": [],
   "source": [
    "caffeinated_drinks['coffee']"
   ]
  },
  {
   "cell_type": "markdown",
   "metadata": {},
   "source": [
    "Here we have a dictionary, that contains a list, that contains another dictionary"
   ]
  },
  {
   "cell_type": "code",
   "execution_count": null,
   "metadata": {},
   "outputs": [],
   "source": [
    "type(caffeinated_drinks)"
   ]
  },
  {
   "cell_type": "code",
   "execution_count": null,
   "metadata": {},
   "outputs": [],
   "source": [
    "type(caffeinated_drinks['coffee'])"
   ]
  },
  {
   "cell_type": "code",
   "execution_count": null,
   "metadata": {},
   "outputs": [],
   "source": [
    "type(caffeinated_drinks['coffee'][0])"
   ]
  },
  {
   "cell_type": "markdown",
   "metadata": {},
   "source": [
    "Although dictionaries in Python are flexible, programmers are free to make them as clear or as confusing as they please.  Although this data structure is more compact, the way it merges lists and dictionaries may have made it more difficult and complicated to find data.  For instance, how would we find the maximum caffeine in a typical cup of brewed coffee?  \n",
    "\n",
    "In this case, we could inspect the dictionary and use our knowledge of structure to find the data.  However, this requires knowing that the first item in the list is \"brewed\".  "
   ]
  },
  {
   "cell_type": "code",
   "execution_count": null,
   "metadata": {},
   "outputs": [],
   "source": [
    "caffeinated_drinks['coffee'][0]['max']"
   ]
  },
  {
   "cell_type": "markdown",
   "metadata": {
    "collapsed": true
   },
   "source": [
    "Alternatively, you could iterate over the keys of the dictionary and list and check each value.  Here's one way to write a loop that will print the type, sub category, and caffeine content of every beverage in our dictionary. "
   ]
  },
  {
   "cell_type": "code",
   "execution_count": null,
   "metadata": {},
   "outputs": [],
   "source": [
    "max_caffeine = 0\n",
    "for cd in caffeinated_drinks:\n",
    "    for d in caffeinated_drinks[cd]:\n",
    "        print(cd, d['type'],d['max'])"
   ]
  },
  {
   "cell_type": "markdown",
   "metadata": {
    "collapsed": true
   },
   "source": [
    "### exercise \n",
    "Find the beverage with the highest caffine content.  \n",
    "Can you do this in the loop?\n",
    "Can you do this by creating an ordered dictionary and sorting keys by value?  You'll may need to search the docs or web."
   ]
  },
  {
   "cell_type": "markdown",
   "metadata": {},
   "source": [
    "### exercise\n",
    "Some information should be stored in a list, but it isn't an ideal data structure for a look up table, as it forces whoever is using the dictionary to iterate through a list, looking for terms.  Unfortunately, the dictionary above has created this problem.  As an open ended exercise, how would you nest a dictionary in a way that preserves the funcitonality of a look up table for sub categories of "
   ]
  },
  {
   "cell_type": "markdown",
   "metadata": {},
   "source": [
    "#### Recursion\n",
    "\n",
    "You can use recursive techniques to traverse, search, and print the keys and values in a nested dictionary. \n",
    "\n",
    "First, we'll rewrite the lookup table to use dictionaries only (no lists)."
   ]
  },
  {
   "cell_type": "code",
   "execution_count": null,
   "metadata": {},
   "outputs": [],
   "source": [
    "caffeinated_drinks = {'coffee': {\n",
    "                'regular': {'size': 8, 'max': 165, 'min': 95}, \n",
    "                'decaf': {'size': 8, 'max': 5, 'min': 2},\n",
    "                'espresso': {'size': 1, 'max': 64, 'min': 47}},\n",
    "                      'tea': {\n",
    "                'black': {'size': 8, 'max': 48, 'min': 25}, \n",
    "                'decaf': {'size': 8, 'max': 5, 'min': 2},\n",
    "                'green': {'size': 8, 'max': 29, 'min': 25}\n",
    "             }\n",
    "        }"
   ]
  },
  {
   "cell_type": "markdown",
   "metadata": {},
   "source": [
    "Now, we can use recursion to print all keys (and values, if we're at a leaf node)"
   ]
  },
  {
   "cell_type": "code",
   "execution_count": null,
   "metadata": {},
   "outputs": [],
   "source": [
    "def print_dictionary_tree(d):\n",
    "    \n",
    "    for k in d.keys():\n",
    "        \n",
    "        if isinstance(d[k], dict):\n",
    "            print_dictionary_tree(d[k])\n",
    "        \n",
    "            print(k)\n",
    "        \n",
    "        else:\n",
    "            print(k,d[k])\n",
    "    "
   ]
  },
  {
   "cell_type": "code",
   "execution_count": null,
   "metadata": {},
   "outputs": [],
   "source": [
    "print_dictionary_tree(caffeinated_drinks)"
   ]
  },
  {
   "cell_type": "markdown",
   "metadata": {},
   "source": [
    "#### Exercise\n",
    "\n",
    "* Modify the method to print only leaf nodes\n",
    "* Modify the method to recursively print a nested dictionary containing both dictionaries and lists"
   ]
  },
  {
   "cell_type": "code",
   "execution_count": null,
   "metadata": {},
   "outputs": [],
   "source": []
  }
 ],
 "metadata": {
  "kernelspec": {
   "display_name": "Python 3",
   "language": "python",
   "name": "python3"
  },
  "language_info": {
   "codemirror_mode": {
    "name": "ipython",
    "version": 3
   },
   "file_extension": ".py",
   "mimetype": "text/x-python",
   "name": "python",
   "nbconvert_exporter": "python",
   "pygments_lexer": "ipython3",
   "version": "3.6.8"
  }
 },
 "nbformat": 4,
 "nbformat_minor": 2
}
