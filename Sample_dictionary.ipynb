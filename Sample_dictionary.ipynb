{
 "cells": [
  {
   "cell_type": "markdown",
   "metadata": {},
   "source": [
    "### Sample Dictionary\n",
    "\n",
    "Before parsing a JSON document, it will help to get familiar with the concept of a dictionary in Python.\n",
    "\n",
    "A dictionary is a data structure that allows you to look up a value by a key. For example, you might look up the caffeine content (a value) based on the type of beverage (key). \n",
    "\n",
    "For this section, we'll implement a dictionary to look up the caffeine content of various drinks using data from the Mayo clinic website. \n",
    "\n",
    "https://www.mayoclinic.org/healthy-lifestyle/nutrition-and-healthy-eating/in-depth/caffeine/art-20049372\n",
    "\n",
    "We'll start with single value matchines (each key maps to one value). Then we'll get into nested dictionaries, where a key maps to another data structure (which can be a list, dictionary, tuple, or other object or data structure). "
   ]
  },
  {
   "cell_type": "code",
   "execution_count": 1,
   "metadata": {},
   "outputs": [],
   "source": [
    "caffeine_content = {\"coffee\": 96, \"black_tea\": 47, \"green_tea\": 28, 'cola': 22, 'energy_drink': 71.9}"
   ]
  },
  {
   "cell_type": "code",
   "execution_count": 2,
   "metadata": {},
   "outputs": [
    {
     "data": {
      "text/plain": [
       "28"
      ]
     },
     "execution_count": 2,
     "metadata": {},
     "output_type": "execute_result"
    }
   ],
   "source": [
    "caffeine_content['green_tea']"
   ]
  },
  {
   "cell_type": "code",
   "execution_count": 3,
   "metadata": {},
   "outputs": [
    {
     "data": {
      "text/plain": [
       "47"
      ]
     },
     "execution_count": 3,
     "metadata": {},
     "output_type": "execute_result"
    }
   ],
   "source": [
    "caffeine_content['black_tea']"
   ]
  },
  {
   "cell_type": "markdown",
   "metadata": {},
   "source": [
    "So far, we can look up caffeine content by drink. But what if you'd like to store the caffeine content of the full caf and decaf version of each drink?\n",
    "\n",
    "One approach might be to store these values in a list, where the first value represents the caffeine content of the decaf version of the drink. "
   ]
  },
  {
   "cell_type": "code",
   "execution_count": 4,
   "metadata": {},
   "outputs": [],
   "source": [
    "caffeine_content = {\"coffee\": [2, 96], \"black_tea\": [2, 47], \"green_tea\": 28}"
   ]
  },
  {
   "cell_type": "markdown",
   "metadata": {},
   "source": [
    "This works, but it has some drawbacks. The data isn't really ordered, we just assigned the first spot to decaf. Also, what do you do when there is no data for decaf? The table from the Mayo clinic site doesn't provide information about decaf green tea. Should we store an N/A value? Leave it out?"
   ]
  },
  {
   "cell_type": "code",
   "execution_count": 5,
   "metadata": {},
   "outputs": [
    {
     "data": {
      "text/plain": [
       "2"
      ]
     },
     "execution_count": 5,
     "metadata": {},
     "output_type": "execute_result"
    }
   ],
   "source": [
    "caffeine_content['black_tea'][0]"
   ]
  },
  {
   "cell_type": "code",
   "execution_count": 6,
   "metadata": {},
   "outputs": [
    {
     "data": {
      "text/plain": [
       "28"
      ]
     },
     "execution_count": 6,
     "metadata": {},
     "output_type": "execute_result"
    }
   ],
   "source": [
    "caffeine_content['green_tea']"
   ]
  },
  {
   "cell_type": "code",
   "execution_count": 7,
   "metadata": {},
   "outputs": [],
   "source": [
    "# this will throw an error.\n",
    "# caffeine_content['green_tea'][0]"
   ]
  },
  {
   "cell_type": "markdown",
   "metadata": {},
   "source": [
    "There are times when it makes sense to map a key to a list, but this moight make sense when the data has an order, or when the number of results may vary. \n",
    "\n",
    "For example, a word in a dictionary may have multiple definitions. In this case, it might make sense to use a list.\n",
    "\n",
    "For the caffeine content approach, it might make more sense to use a nested dictionary. "
   ]
  },
  {
   "cell_type": "code",
   "execution_count": 8,
   "metadata": {},
   "outputs": [],
   "source": [
    "caffeine_content = {\n",
    "    'coffee': {'decaf': 2, 'regular': 96},\n",
    "    'black_tea': {'decaf': 2, 'regular': 47},\n",
    "    'green_tea': {'regular': 28}\n",
    "    }"
   ]
  },
  {
   "cell_type": "code",
   "execution_count": 9,
   "metadata": {},
   "outputs": [
    {
     "data": {
      "text/plain": [
       "2"
      ]
     },
     "execution_count": 9,
     "metadata": {},
     "output_type": "execute_result"
    }
   ],
   "source": [
    "caffeine_content['coffee']['decaf']"
   ]
  },
  {
   "cell_type": "code",
   "execution_count": 10,
   "metadata": {},
   "outputs": [
    {
     "data": {
      "text/plain": [
       "28"
      ]
     },
     "execution_count": 10,
     "metadata": {},
     "output_type": "execute_result"
    }
   ],
   "source": [
    "caffeine_content['green_tea']['regular']"
   ]
  },
  {
   "cell_type": "code",
   "execution_count": 11,
   "metadata": {},
   "outputs": [],
   "source": [
    "# this will throw an error, as there is no key for decaf within the green tea nested dictionary\n",
    "# coffee_content['green_tea']['decaf']"
   ]
  },
  {
   "cell_type": "markdown",
   "metadata": {},
   "source": [
    "It might help to know what keys are available in a dictionary prior to looking up a value by key.\n",
    "\n",
    "We can get this information by calling the .keys() method on a dictionary"
   ]
  },
  {
   "cell_type": "code",
   "execution_count": 12,
   "metadata": {},
   "outputs": [
    {
     "data": {
      "text/plain": [
       "dict_keys(['coffee', 'black_tea', 'green_tea'])"
      ]
     },
     "execution_count": 12,
     "metadata": {},
     "output_type": "execute_result"
    }
   ],
   "source": [
    "caffeine_content.keys()"
   ]
  },
  {
   "cell_type": "markdown",
   "metadata": {},
   "source": [
    "to get the keys on one of the sub-dictionaries, we can retrieve it and call the .keys() method"
   ]
  },
  {
   "cell_type": "code",
   "execution_count": 13,
   "metadata": {},
   "outputs": [
    {
     "data": {
      "text/plain": [
       "dict_keys(['decaf', 'regular'])"
      ]
     },
     "execution_count": 13,
     "metadata": {},
     "output_type": "execute_result"
    }
   ],
   "source": [
    "caffeine_content['coffee'].keys()"
   ]
  },
  {
   "cell_type": "code",
   "execution_count": 14,
   "metadata": {},
   "outputs": [
    {
     "data": {
      "text/plain": [
       "dict_keys(['regular'])"
      ]
     },
     "execution_count": 14,
     "metadata": {},
     "output_type": "execute_result"
    }
   ],
   "source": [
    "caffeine_content['green_tea'].keys()"
   ]
  },
  {
   "cell_type": "markdown",
   "metadata": {},
   "source": [
    "You can check to see if a value exists in a dictionary prior to retrieving it"
   ]
  },
  {
   "cell_type": "code",
   "execution_count": 15,
   "metadata": {},
   "outputs": [
    {
     "name": "stdout",
     "output_type": "stream",
     "text": [
      "decaf is in the black_tea dictionary\n"
     ]
    }
   ],
   "source": [
    "lookup_val = 'black_tea'\n",
    "\n",
    "if 'decaf' in caffeine_content[lookup_val]:\n",
    "    print('decaf is in the', lookup_val, 'dictionary')\n",
    "else:\n",
    "    print('decaf is not in the', lookup_val, 'dictionary')"
   ]
  },
  {
   "cell_type": "code",
   "execution_count": 16,
   "metadata": {},
   "outputs": [],
   "source": [
    "# try switching the above lookup_val to 'green_tea'"
   ]
  },
  {
   "cell_type": "markdown",
   "metadata": {},
   "source": [
    "### Challenge\n",
    "\n",
    "1. Add information for energy drinks to the dictionary\n",
    "2. Create a nested dictionary for brewed coffee vs espresso\n",
    "3. Add information about who ordered each drink that day (You may want to use a list and just use first names to simplify this one. No need to add a lot of data)"
   ]
  },
  {
   "cell_type": "markdown",
   "metadata": {},
   "source": [
    "### Future Challenge, something to think about...\n",
    "\n",
    "How would you print all of the keys in a dictionary?\n",
    "\n",
    "You know how to get the values at each level of the dictionary. But how to get them all in a nested dictionary?"
   ]
  },
  {
   "cell_type": "code",
   "execution_count": 17,
   "metadata": {},
   "outputs": [
    {
     "name": "stdout",
     "output_type": "stream",
     "text": [
      "coffee {'decaf': 2, 'regular': 96}\n",
      "black_tea {'decaf': 2, 'regular': 47}\n",
      "green_tea {'regular': 28}\n"
     ]
    }
   ],
   "source": [
    "for key, value in caffeine_content.items() :\n",
    "    print (key, value)"
   ]
  },
  {
   "cell_type": "markdown",
   "metadata": {},
   "source": [
    "One way is to use recursion. Feel free to shelve this for now, but you may want to come back to it later if you plan to work with a lot of tree-like structures (such as deeply nested dictionaries)"
   ]
  },
  {
   "cell_type": "code",
   "execution_count": 18,
   "metadata": {},
   "outputs": [],
   "source": [
    "def printKeys(node):\n",
    "    for k in node.keys():\n",
    "        print(k)\n",
    "        if type(node[k]) is dict:\n",
    "            printKeys(node[k])"
   ]
  },
  {
   "cell_type": "code",
   "execution_count": 19,
   "metadata": {},
   "outputs": [
    {
     "name": "stdout",
     "output_type": "stream",
     "text": [
      "coffee\n",
      "decaf\n",
      "regular\n",
      "black_tea\n",
      "decaf\n",
      "regular\n",
      "green_tea\n",
      "regular\n"
     ]
    }
   ],
   "source": [
    "printKeys(caffeine_content)"
   ]
  },
  {
   "cell_type": "code",
   "execution_count": null,
   "metadata": {},
   "outputs": [],
   "source": []
  }
 ],
 "metadata": {
  "kernelspec": {
   "display_name": "Python 3 (ipykernel)",
   "language": "python",
   "name": "python3"
  },
  "language_info": {
   "codemirror_mode": {
    "name": "ipython",
    "version": 3
   },
   "file_extension": ".py",
   "mimetype": "text/x-python",
   "name": "python",
   "nbconvert_exporter": "python",
   "pygments_lexer": "ipython3",
   "version": "3.10.9"
  }
 },
 "nbformat": 4,
 "nbformat_minor": 2
}
