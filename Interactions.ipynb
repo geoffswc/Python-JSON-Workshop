{
 "cells": [
  {
   "cell_type": "markdown",
   "metadata": {},
   "source": [
    "### Interaction API\n",
    "\n",
    "In this section, we will continue investigating the use of an API published by the National Library of Medicine.  The techniques will be very similar to the spell checker example in the APIRequest notebook, though the data is more elaborate and more challenging to parse.\n",
    "\n",
    "We will be querying drug interactions through teh InteractionAPI.  This api accepts an rxcui for a particular drug and provides information about the known interactions with other medications.  \n",
    "\n",
    "To read more about this API, you can follow the link at\n",
    "\n",
    "https://rxnav.nlm.nih.gov/InteractionAPIs.html\n",
    "\n",
    "For an overview of the metadata related to this api, you can use the appendix at\n",
    "\n",
    "https://www.nlm.nih.gov/research/umls/rxnorm/docs/2015/appendix5.html\n",
    "    \n",
    "Note: To find the rxcui for a particular drug by name (string), use:\n",
    "https://rxnav.nlm.nih.gov/api-RxNorm.findRxcuiByString.html"
   ]
  },
  {
   "cell_type": "markdown",
   "metadata": {},
   "source": [
    "We start by loading the required libraries, making a connection to a URI, and converting the JSON response to a python dictionary"
   ]
  },
  {
   "cell_type": "code",
   "execution_count": null,
   "metadata": {},
   "outputs": [],
   "source": [
    "import requests\n",
    "\n",
    "url = 'https://rxnav.nlm.nih.gov/REST/interaction/interaction.json?rxcui=153165'\n",
    "resp = requests.get(url)\n",
    "data = resp.json()"
   ]
  },
  {
   "cell_type": "markdown",
   "metadata": {
    "collapsed": true
   },
   "source": [
    "this cell is commented out because of the amount of data.  To follow along, you can uncomment and run to look at the raw JSON from the URI.  Alternatively, just take a look at the URI directly in your brower.  You may want to install a plug-in to make viewing easier."
   ]
  },
  {
   "cell_type": "code",
   "execution_count": null,
   "metadata": {},
   "outputs": [],
   "source": [
    "data"
   ]
  },
  {
   "cell_type": "code",
   "execution_count": null,
   "metadata": {},
   "outputs": [],
   "source": [
    "type(data)"
   ]
  },
  {
   "cell_type": "markdown",
   "metadata": {},
   "source": [
    "This data structure is more elaborate and nested than the spell checker, combining lists and dictionaries.  \n",
    "\n",
    "Suppose you wanted to use this API to extract a list of drugs with a known interaction?  Do do this, you'll need to parse the JSON document to get specifically at the data fields you need.  There are various techniques to do this, so you often don't need to write this by hand.  However, there will be times when you need to apply very specific logic to a JSON tree, so we will investigate how to do this by directly accessing elements of a tree with Python.  \n",
    "\n",
    "To directly access the names of the drugs with interactions, we will need to follow\n",
    "\n",
    "interactionTypeGroup -> interactionType -> interactionPair -> minConceptItem.\n",
    "\n",
    "Some of these are nested dictionaries, and some are lists, so we may need to use different syntax to access them.\n",
    "\n",
    "To get the top level keys for this dictionary, you can use the python keys syntax.  Remember, a JSON document is very similar to a dictionary, and once loaded, you can use all the dict methods available in Python."
   ]
  },
  {
   "cell_type": "code",
   "execution_count": null,
   "metadata": {},
   "outputs": [],
   "source": [
    "data.keys()"
   ]
  },
  {
   "cell_type": "markdown",
   "metadata": {},
   "source": [
    "Becase we are dealing with **keys**, we can use dictionary syntax.  "
   ]
  },
  {
   "cell_type": "code",
   "execution_count": null,
   "metadata": {},
   "outputs": [],
   "source": [
    "interactionTypeGroup = data['interactionTypeGroup']"
   ]
  },
  {
   "cell_type": "code",
   "execution_count": null,
   "metadata": {},
   "outputs": [],
   "source": [
    "type(interactionTypeGroup)"
   ]
  },
  {
   "cell_type": "markdown",
   "metadata": {},
   "source": [
    "We have a key that maps to a list.  Let's check the length."
   ]
  },
  {
   "cell_type": "code",
   "execution_count": null,
   "metadata": {},
   "outputs": [],
   "source": [
    "len(interactionTypeGroup)"
   ]
  },
  {
   "cell_type": "markdown",
   "metadata": {},
   "source": [
    "There's only one item in this list, but we can't assume that will always be the case.  If you want to parse a JSON tree, or a nested dictionary, make sure you iterate over every item in a list, even if in every case so far, you've only seen a single value.  \n",
    "\n",
    "We're dealing with a list here, so instead of using a lookup value in a dictionary (which is not ordered), we can access by positional index for a list, which is ordered."
   ]
  },
  {
   "cell_type": "code",
   "execution_count": null,
   "metadata": {},
   "outputs": [],
   "source": [
    "interactionTypeGroup = interactionTypeGroup[0]"
   ]
  },
  {
   "cell_type": "code",
   "execution_count": null,
   "metadata": {},
   "outputs": [],
   "source": [
    "type(interactionTypeGroup)"
   ]
  },
  {
   "cell_type": "markdown",
   "metadata": {},
   "source": [
    "The top level dictionary contained a list.  This list, in turn, contains dictionaries.  "
   ]
  },
  {
   "cell_type": "code",
   "execution_count": null,
   "metadata": {},
   "outputs": [],
   "source": [
    "interactionTypeGroup.keys()"
   ]
  },
  {
   "cell_type": "markdown",
   "metadata": {},
   "source": [
    "Using this technique, let's continue to descend this tree until we get to the data we need."
   ]
  },
  {
   "cell_type": "code",
   "execution_count": null,
   "metadata": {},
   "outputs": [],
   "source": [
    "interactionType = interactionTypeGroup['interactionType']"
   ]
  },
  {
   "cell_type": "code",
   "execution_count": null,
   "metadata": {},
   "outputs": [],
   "source": [
    "type(interactionType)"
   ]
  },
  {
   "cell_type": "code",
   "execution_count": null,
   "metadata": {},
   "outputs": [],
   "source": [
    "len(interactionType)"
   ]
  },
  {
   "cell_type": "code",
   "execution_count": null,
   "metadata": {},
   "outputs": [],
   "source": [
    "interactionType = interactionType[0]"
   ]
  },
  {
   "cell_type": "code",
   "execution_count": null,
   "metadata": {},
   "outputs": [],
   "source": [
    "interactionType.keys()"
   ]
  },
  {
   "cell_type": "code",
   "execution_count": null,
   "metadata": {},
   "outputs": [],
   "source": [
    "interactionPair = interactionType['interactionPair']"
   ]
  },
  {
   "cell_type": "code",
   "execution_count": null,
   "metadata": {},
   "outputs": [],
   "source": [
    "#interactionPair"
   ]
  },
  {
   "cell_type": "code",
   "execution_count": null,
   "metadata": {},
   "outputs": [],
   "source": [
    "len(interactionPair)"
   ]
  },
  {
   "cell_type": "markdown",
   "metadata": {},
   "source": [
    "To avoid ambiguity between terms, let's pluralize this to remember we're dealing with a list.  The naming makes no different to Python, of course, but we (and others) have to read this code!"
   ]
  },
  {
   "cell_type": "code",
   "execution_count": null,
   "metadata": {},
   "outputs": [],
   "source": [
    "interactionPairs = interactionPair"
   ]
  },
  {
   "cell_type": "code",
   "execution_count": null,
   "metadata": {},
   "outputs": [],
   "source": [
    "interactionPair[0]"
   ]
  },
  {
   "cell_type": "code",
   "execution_count": null,
   "metadata": {},
   "outputs": [],
   "source": [
    "type(interactionPair[0])"
   ]
  },
  {
   "cell_type": "code",
   "execution_count": null,
   "metadata": {},
   "outputs": [],
   "source": [
    "interactionPair[0].keys()"
   ]
  },
  {
   "cell_type": "markdown",
   "metadata": {},
   "source": [
    "We don't have to assign an intermediary variable if we don't need one - we can grab the key value from the first element of the array.  "
   ]
  },
  {
   "cell_type": "code",
   "execution_count": null,
   "metadata": {},
   "outputs": [],
   "source": [
    "interactionConcept = interactionPair[0]['interactionConcept']"
   ]
  },
  {
   "cell_type": "code",
   "execution_count": null,
   "metadata": {},
   "outputs": [],
   "source": [
    "interactionConcept"
   ]
  },
  {
   "cell_type": "code",
   "execution_count": null,
   "metadata": {},
   "outputs": [],
   "source": [
    "len(interactionConcept)"
   ]
  },
  {
   "cell_type": "markdown",
   "metadata": {
    "collapsed": true
   },
   "source": [
    "Look back at your original tree - the first element of the list is the name of the drug we're researching.  The second element is the name of the drug with an interaction.  To build our list, we'll grab that one.  "
   ]
  },
  {
   "cell_type": "code",
   "execution_count": null,
   "metadata": {},
   "outputs": [],
   "source": [
    "minConceptItem = interactionConcept[1]['minConceptItem']"
   ]
  },
  {
   "cell_type": "code",
   "execution_count": null,
   "metadata": {},
   "outputs": [],
   "source": [
    "minConceptItem"
   ]
  },
  {
   "cell_type": "markdown",
   "metadata": {},
   "source": [
    "Finally, we arrive at a the data we need!"
   ]
  },
  {
   "cell_type": "code",
   "execution_count": null,
   "metadata": {},
   "outputs": [],
   "source": [
    "name = minConceptItem['name']"
   ]
  },
  {
   "cell_type": "code",
   "execution_count": null,
   "metadata": {},
   "outputs": [],
   "source": [
    "name"
   ]
  },
  {
   "cell_type": "markdown",
   "metadata": {
    "collapsed": true
   },
   "source": [
    "### Exercise\n",
    "\n",
    "We obtained the name for a single interaction in this section.  How would you parse this tree to obtain a list of all interactions from this web service?  \n",
    "\n",
    "There are always multiple ways to do things in a programming language.  In the next section, InteractionList.ipynb, we'll review one way to do this.  But before you take a look, give this a try and see how your solution compares.  "
   ]
  },
  {
   "cell_type": "markdown",
   "metadata": {
    "collapsed": true
   },
   "source": [
    "### Coding Project: Interaction List Service\n",
    "\n",
    "We can query the interaction list service to find potential interactions between two drugs (based on rxcui). \n",
    "\n",
    "To do this, you'd need to use two diffrent web services\n",
    "\n",
    "1) look up the rxcui for each drug, using:\n",
    "\n",
    "https://rxnav.nlm.nih.gov/api-RxNorm.findRxcuiByString.html\n",
    "\n",
    "2) look up the interaction between the two drugs using:\n",
    "\n",
    "https://rxnav.nlm.nih.gov/api-Interaction.findInteractionsFromList.html\n",
    "\n",
    "Try this out for Warfarin and Diflunisal. \n",
    "\n",
    "https://rxnav.nlm.nih.gov/REST/rxcui.json?name=Warfarin\n",
    "\n",
    "https://rxnav.nlm.nih.gov/REST/rxcui.json?name=Diflunisal\n",
    "\n",
    "https://rxnav.nlm.nih.gov/REST/interaction/list?rxcuis=11289+3393"
   ]
  },
  {
   "cell_type": "markdown",
   "metadata": {},
   "source": [
    "This can be a little cumbersome after a while, and you might want to automate it. For example, suppose you were scanning clinical notes and wanted to flag notes that contain potentially dangerous interactions. How could you automate this process?/"
   ]
  },
  {
   "cell_type": "code",
   "execution_count": null,
   "metadata": {},
   "outputs": [],
   "source": []
  }
 ],
 "metadata": {
  "kernelspec": {
   "display_name": "Python 3",
   "language": "python",
   "name": "python3"
  },
  "language_info": {
   "codemirror_mode": {
    "name": "ipython",
    "version": 3
   },
   "file_extension": ".py",
   "mimetype": "text/x-python",
   "name": "python",
   "nbconvert_exporter": "python",
   "pygments_lexer": "ipython3",
   "version": "3.6.8"
  }
 },
 "nbformat": 4,
 "nbformat_minor": 2
}
