{
 "cells": [
  {
   "cell_type": "code",
   "execution_count": 1,
   "metadata": {},
   "outputs": [],
   "source": [
    "import requests\n",
    "url = 'https://rxnav.nlm.nih.gov/REST/interaction/interaction.json?rxcui=153165'\n",
    "resp = requests.get(url)\n",
    "data = resp.json()"
   ]
  },
  {
   "cell_type": "code",
   "execution_count": 12,
   "metadata": {},
   "outputs": [
    {
     "data": {
      "text/plain": [
       "[{'minConceptItem': {'rxcui': '83367', 'name': 'atorvastatin', 'tty': 'IN'},\n",
       "  'sourceConceptItem': {'id': 'DB01076',\n",
       "   'name': 'Atorvastatin',\n",
       "   'url': 'http://www.drugbank.ca/drugs/DB01076#interactions'}},\n",
       " {'minConceptItem': {'rxcui': '2103480',\n",
       "   'name': 'Etanercept-szzs',\n",
       "   'tty': 'PIN'},\n",
       "  'sourceConceptItem': {'id': 'DB00005',\n",
       "   'name': 'Etanercept',\n",
       "   'url': 'http://www.drugbank.ca/drugs/DB00005#interactions'}}]"
      ]
     },
     "execution_count": 12,
     "metadata": {},
     "output_type": "execute_result"
    }
   ],
   "source": [
    "data['interactionTypeGroup'][0]['interactionType'][0]['interactionPair'][0]['interactionConcept']"
   ]
  },
  {
   "cell_type": "code",
   "execution_count": 22,
   "metadata": {},
   "outputs": [],
   "source": [
    "interactions = []\n",
    "\n",
    "for itg in data['interactionTypeGroup']:\n",
    "    for it in itg['interactionType']:\n",
    "        for ip in it['interactionPair']:\n",
    "            for ic in ip[\"interactionConcept\"]:\n",
    "                mci = ic['minConceptItem']\n",
    "                if mci['tty'] == 'PIN':\n",
    "                    interactions.append(mci['name'])"
   ]
  },
  {
   "cell_type": "code",
   "execution_count": 23,
   "metadata": {},
   "outputs": [
    {
     "data": {
      "text/plain": [
       "['alpha 1-proteinase inhibitor, human',\n",
       " 'INDINAVIR ANHYDROUS',\n",
       " 'doxycycline anhydrous',\n",
       " 'timolol anhydrous',\n",
       " 'Lisinopril Anhydrous',\n",
       " 'Irinotecan hydrochloride',\n",
       " 'Anhydrous Tacrolimus',\n",
       " 'HYDROCODONE POLISTIREX',\n",
       " 'Doxorubicin Hydrochloride',\n",
       " 'Fusidic Acid',\n",
       " 'Bosutinib monohydrate',\n",
       " 'Cyproterone Acetate',\n",
       " 'saquinavir mesylate',\n",
       " 'sitagliptin phosphate',\n",
       " 'saxagliptin anhydrous',\n",
       " 'enalaprilat anhydrous',\n",
       " 'Antithrombin III, Human',\n",
       " 'eslicarbazepine acetate',\n",
       " 'Quetiapine fumarate',\n",
       " 'DOCETAXEL ANHYDROUS',\n",
       " 'fluticasone furoate',\n",
       " 'canagliflozin anhydrous',\n",
       " 'lenvatinib mesylate',\n",
       " 'Grazoprevir anhydrous',\n",
       " 'aluminum hydroxide, dried (USP)',\n",
       " 'dasatinib anhydrous']"
      ]
     },
     "execution_count": 23,
     "metadata": {},
     "output_type": "execute_result"
    }
   ],
   "source": [
    "interactions"
   ]
  },
  {
   "cell_type": "code",
   "execution_count": null,
   "metadata": {
    "collapsed": true
   },
   "outputs": [],
   "source": []
  }
 ],
 "metadata": {
  "kernelspec": {
   "display_name": "Python 3",
   "language": "python",
   "name": "python3"
  },
  "language_info": {
   "codemirror_mode": {
    "name": "ipython",
    "version": 3
   },
   "file_extension": ".py",
   "mimetype": "text/x-python",
   "name": "python",
   "nbconvert_exporter": "python",
   "pygments_lexer": "ipython3",
   "version": "3.6.8"
  }
 },
 "nbformat": 4,
 "nbformat_minor": 2
}
