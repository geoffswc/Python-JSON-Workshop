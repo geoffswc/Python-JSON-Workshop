{
 "cells": [
  {
   "cell_type": "markdown",
   "metadata": {},
   "source": [
    "### Request JSON data from an API endpoint\n",
    "\n",
    "In this section, we will use the **requests** module to obtain JSON data from an api endpoint supplied by the national library of medicine.  Because python can easily retrieve JSON data as a dictionary structure, we will be able to use techniques for python dictionaries to parse and analyze the information. "
   ]
  },
  {
   "cell_type": "markdown",
   "metadata": {},
   "source": [
    "### A note on this data...\n",
    "\n",
    "The service we will use in this section is from a set of web services hosted by National Library of Medicine.  \n",
    "\n",
    "https://rxnav.nlm.nih.gov\n",
    "\n",
    "You might want to take a few minutes to visit this site, follow the \"APIs\" link, and investigate the services and data available on this site.  For this example, we'll use the spelling suggestions api."
   ]
  },
  {
   "cell_type": "markdown",
   "metadata": {},
   "source": [
    "### Look up the data without Python\n",
    "\n",
    "You can use an API endpoint without programming in your browser.\n",
    "\n",
    "For example, try the spelling suggestion suggestion API\n",
    "\n",
    "https://lhncbc.nlm.nih.gov/RxNav/APIs/api-RxNorm.getSpellingSuggestions.html\n",
    "    \n",
    "And try the example provided on this page.    \n",
    "    \n",
    "https://rxnav.nlm.nih.gov/REST/spellingsuggestions.json?name=ambienn\n",
    "\n",
    "You may notice that this is very similar in structure to a python dictionary, to the point where you can often copy and paste it into your notebook with few (or no) modifications and use it as a python dictionary."
   ]
  },
  {
   "cell_type": "code",
   "execution_count": 1,
   "metadata": {},
   "outputs": [],
   "source": [
    "# there is one problem with the copy and paste approach for this particular result\n",
    "# null is not defined in python. But we can change this to None and the copy and paste will work.\n",
    "\n",
    "#This is the exact JSON output from the API\n",
    "#spelling_suggestons = {\"suggestionGroup\":{\"name\":null,\"suggestionList\":{\"suggestion\":[\"ambien\"]}}}\n",
    "\n",
    "# this is the modified version using None\n",
    "spelling_suggestions = {\"suggestionGroup\":{\"name\":None,\"suggestionList\":{\"suggestion\":[\"ambien\"]}}}"
   ]
  },
  {
   "cell_type": "markdown",
   "metadata": {},
   "source": [
    "We can now access the dictionary using standard python syntax"
   ]
  },
  {
   "cell_type": "code",
   "execution_count": 2,
   "metadata": {},
   "outputs": [
    {
     "data": {
      "text/plain": [
       "'ambien'"
      ]
     },
     "execution_count": 2,
     "metadata": {},
     "output_type": "execute_result"
    }
   ],
   "source": [
    "spelling_suggestions['suggestionGroup']['suggestionList']['suggestion'][0]"
   ]
  },
  {
   "cell_type": "markdown",
   "metadata": {},
   "source": [
    "### Automate this using Python\n",
    "\n",
    "Eventually, you'll want to automate this process using code - partly because you don't want to have to manually edit and format the values for Python, but moreso because you'll probably be building a \"data pipeline\", a program that gathers and knits together data from multiple sources at high volume in a stable, consistent, predictable, and well-tested program.\n",
    "\n",
    "To do this with Python, we'll start by importing the requests library..."
   ]
  },
  {
   "cell_type": "code",
   "execution_count": 3,
   "metadata": {},
   "outputs": [],
   "source": [
    "import requests"
   ]
  },
  {
   "cell_type": "markdown",
   "metadata": {},
   "source": [
    "We will use on a small part of this library - you may want to look through the tutorial and documentation at https://pypi.org/project/requests/.  \n",
    "\n",
    "You can pass request parameters to the web service through the URL itself or through a payload.  Both will work, though the payload approach can be useful when the amount of data you need to send to the URL becomes unwieldy.  Both approaches are shown below, though the direct inclusion in the URL method is commented out."
   ]
  },
  {
   "cell_type": "code",
   "execution_count": 4,
   "metadata": {},
   "outputs": [],
   "source": [
    "#url = 'https://rxnav.nlm.nih.gov/REST/spellingsuggestions.json?name=ambienn'\n",
    "url = 'https://rxnav.nlm.nih.gov/REST/spellingsuggestions.json'\n",
    "payload = {'name': 'ambienn'}"
   ]
  },
  {
   "cell_type": "code",
   "execution_count": 5,
   "metadata": {},
   "outputs": [],
   "source": [
    "# r = requests.get(url)\n",
    "r = requests.get(url, payload)"
   ]
  },
  {
   "cell_type": "markdown",
   "metadata": {},
   "source": [
    "The requests module provides a method to view the resulting url from a payload - this can also be useful if you'd like to look at the page directly in your browser.  "
   ]
  },
  {
   "cell_type": "code",
   "execution_count": 6,
   "metadata": {},
   "outputs": [
    {
     "data": {
      "text/plain": [
       "'https://rxnav.nlm.nih.gov/REST/spellingsuggestions.json?name=ambienn'"
      ]
     },
     "execution_count": 6,
     "metadata": {},
     "output_type": "execute_result"
    }
   ],
   "source": [
    "r.url"
   ]
  },
  {
   "cell_type": "markdown",
   "metadata": {},
   "source": [
    "And convert it to JSON"
   ]
  },
  {
   "cell_type": "code",
   "execution_count": 7,
   "metadata": {},
   "outputs": [],
   "source": [
    "data = r.json()"
   ]
  },
  {
   "cell_type": "code",
   "execution_count": 8,
   "metadata": {},
   "outputs": [
    {
     "data": {
      "text/plain": [
       "{'suggestionGroup': {'name': None,\n",
       "  'suggestionList': {'suggestion': ['ambien']}}}"
      ]
     },
     "execution_count": 8,
     "metadata": {},
     "output_type": "execute_result"
    }
   ],
   "source": [
    "data"
   ]
  },
  {
   "cell_type": "markdown",
   "metadata": {},
   "source": [
    "We can check the type to verify that the data we retrieved is now stored in python as a dictionary"
   ]
  },
  {
   "cell_type": "code",
   "execution_count": 9,
   "metadata": {},
   "outputs": [
    {
     "data": {
      "text/plain": [
       "dict"
      ]
     },
     "execution_count": 9,
     "metadata": {},
     "output_type": "execute_result"
    }
   ],
   "source": [
    "type(data)"
   ]
  },
  {
   "cell_type": "code",
   "execution_count": 10,
   "metadata": {},
   "outputs": [],
   "source": [
    "suggestionGroup = data['suggestionGroup']"
   ]
  },
  {
   "cell_type": "markdown",
   "metadata": {},
   "source": [
    "As we noted before, a dictionary can contain either primitives or objects, including other data structures such as lists or other dictionaries.\n",
    "\n",
    "Because the number of suggestions can vary, it makes sense to store these results in a nested list rather than another dictionary. As a result, the developers who implemented this API call return the spelling suggestions as a suggestion list, nested within the 'suggestionList->'suggestion' section of the dictionary tree."
   ]
  },
  {
   "cell_type": "code",
   "execution_count": 11,
   "metadata": {},
   "outputs": [
    {
     "data": {
      "text/plain": [
       "{'name': None, 'suggestionList': {'suggestion': ['ambien']}}"
      ]
     },
     "execution_count": 11,
     "metadata": {},
     "output_type": "execute_result"
    }
   ],
   "source": [
    "suggestionGroup"
   ]
  },
  {
   "cell_type": "code",
   "execution_count": 12,
   "metadata": {},
   "outputs": [],
   "source": [
    "name = suggestionGroup['name']"
   ]
  },
  {
   "cell_type": "code",
   "execution_count": 13,
   "metadata": {},
   "outputs": [],
   "source": [
    "suggestionList = suggestionGroup['suggestionList']"
   ]
  },
  {
   "cell_type": "code",
   "execution_count": 14,
   "metadata": {},
   "outputs": [
    {
     "data": {
      "text/plain": [
       "{'suggestion': ['ambien']}"
      ]
     },
     "execution_count": 14,
     "metadata": {},
     "output_type": "execute_result"
    }
   ],
   "source": [
    "suggestionList"
   ]
  },
  {
   "cell_type": "code",
   "execution_count": 15,
   "metadata": {},
   "outputs": [],
   "source": [
    "suggestion = suggestionList['suggestion']"
   ]
  },
  {
   "cell_type": "code",
   "execution_count": 16,
   "metadata": {},
   "outputs": [
    {
     "data": {
      "text/plain": [
       "'ambien'"
      ]
     },
     "execution_count": 16,
     "metadata": {},
     "output_type": "execute_result"
    }
   ],
   "source": [
    "suggestion[0]"
   ]
  },
  {
   "cell_type": "code",
   "execution_count": 17,
   "metadata": {},
   "outputs": [
    {
     "data": {
      "text/plain": [
       "list"
      ]
     },
     "execution_count": 17,
     "metadata": {},
     "output_type": "execute_result"
    }
   ],
   "source": [
    "type(suggestion)"
   ]
  },
  {
   "cell_type": "code",
   "execution_count": null,
   "metadata": {},
   "outputs": [],
   "source": []
  },
  {
   "cell_type": "code",
   "execution_count": null,
   "metadata": {},
   "outputs": [],
   "source": []
  },
  {
   "cell_type": "code",
   "execution_count": null,
   "metadata": {},
   "outputs": [],
   "source": []
  }
 ],
 "metadata": {
  "kernelspec": {
   "display_name": "Python 3 (ipykernel)",
   "language": "python",
   "name": "python3"
  },
  "language_info": {
   "codemirror_mode": {
    "name": "ipython",
    "version": 3
   },
   "file_extension": ".py",
   "mimetype": "text/x-python",
   "name": "python",
   "nbconvert_exporter": "python",
   "pygments_lexer": "ipython3",
   "version": "3.10.9"
  }
 },
 "nbformat": 4,
 "nbformat_minor": 2
}
