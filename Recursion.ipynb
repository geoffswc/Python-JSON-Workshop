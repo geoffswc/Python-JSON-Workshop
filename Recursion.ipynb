{
 "cells": [
  {
   "cell_type": "code",
   "execution_count": 1,
   "metadata": {},
   "outputs": [],
   "source": [
    "# Recursion is a technique commonly used to traverse tree structures. \n",
    "# Since JSON often contains dictionaries or lists nested in dictionaries or lists\n",
    "# recursion is a useful technique for searching or parsing a JSON document"
   ]
  },
  {
   "cell_type": "code",
   "execution_count": 2,
   "metadata": {},
   "outputs": [],
   "source": [
    "# To illustrate the concept, start with the fibonacci sequence\n",
    "# Fibonacci\n",
    "def fib(n):\n",
    "    if n == 0:\n",
    "        #print(\"fib 0\")\n",
    "        return n\n",
    "    elif n == 1:\n",
    "        #print(\"fib 1\")\n",
    "        return 1\n",
    "    else:\n",
    "        #print(\"fib:\", n-1, \"fib:\", n-2)\n",
    "        return fib(n - 1) + fib(n - 2)"
   ]
  },
  {
   "cell_type": "code",
   "execution_count": 3,
   "metadata": {},
   "outputs": [
    {
     "data": {
      "text/plain": [
       "3"
      ]
     },
     "execution_count": 3,
     "metadata": {},
     "output_type": "execute_result"
    }
   ],
   "source": [
    "fib(4)"
   ]
  },
  {
   "cell_type": "code",
   "execution_count": 4,
   "metadata": {},
   "outputs": [],
   "source": [
    "# now, let's use recursion to print all of the keys in a nested JSON document\n",
    "# start by creating a dictionary with nested dictionaries\n",
    "nested_json = {'A': {'a':1, 'b':2},'B':{'a':1, 'b':2}, 'C': 1 }"
   ]
  },
  {
   "cell_type": "code",
   "execution_count": 5,
   "metadata": {},
   "outputs": [],
   "source": [
    "# Recursively print all the keys in a dictionary with nested dictionaries\n",
    "def print_keys(nested_json):\n",
    "    for k in nested_json.keys():\n",
    "        print(k)\n",
    "        if type(nested_json[k]) is dict:\n",
    "            print_keys(nested_json[k])"
   ]
  },
  {
   "cell_type": "code",
   "execution_count": 6,
   "metadata": {},
   "outputs": [
    {
     "name": "stdout",
     "output_type": "stream",
     "text": [
      "A\n",
      "a\n",
      "b\n",
      "B\n",
      "a\n",
      "b\n",
      "C\n"
     ]
    }
   ],
   "source": [
    "print_keys(nested_json)"
   ]
  },
  {
   "cell_type": "code",
   "execution_count": 7,
   "metadata": {},
   "outputs": [],
   "source": [
    "# What if there's a nested list in the dictionary?\n",
    "nested_json_list = {'A': {'a':1, 'b':2},'B':{'a':1, 'b':2}, 'C':[{'x':1}, {'y':2}, {'z':3}] }"
   ]
  },
  {
   "cell_type": "code",
   "execution_count": 8,
   "metadata": {},
   "outputs": [
    {
     "name": "stdout",
     "output_type": "stream",
     "text": [
      "A\n",
      "a\n",
      "b\n",
      "B\n",
      "a\n",
      "b\n",
      "C\n"
     ]
    }
   ],
   "source": [
    "# notice that the dictionaries nested in a list (in C) don't get printed\n",
    "print_keys(nested_json_list)"
   ]
  },
  {
   "cell_type": "code",
   "execution_count": 9,
   "metadata": {},
   "outputs": [],
   "source": [
    "# to print all the keys, including the ones nested in a list, you need to manage both types.\n",
    "# note that because we're only printing keys, we only print when we find a dictionary key.\n",
    "# with list items, we don't print, but we recusively call print_keys2 to see if they contain any dictionaries\n",
    "def print_keys2(nested_json_list):\n",
    "    if type(nested_json_list) is dict:\n",
    "        for k in nested_json_list.keys():\n",
    "            print(k)\n",
    "            print_keys2(nested_json_list[k])\n",
    "    if type(nested_json_list) is list:\n",
    "        for l in nested_json_list:\n",
    "            print_keys2(l)\n",
    "                "
   ]
  },
  {
   "cell_type": "code",
   "execution_count": 10,
   "metadata": {},
   "outputs": [
    {
     "name": "stdout",
     "output_type": "stream",
     "text": [
      "A\n",
      "a\n",
      "b\n",
      "B\n",
      "a\n",
      "b\n",
      "C\n",
      "x\n",
      "y\n",
      "z\n"
     ]
    }
   ],
   "source": [
    "print_keys2(nested_json_list)"
   ]
  },
  {
   "cell_type": "code",
   "execution_count": null,
   "metadata": {},
   "outputs": [],
   "source": []
  },
  {
   "cell_type": "code",
   "execution_count": null,
   "metadata": {},
   "outputs": [],
   "source": []
  }
 ],
 "metadata": {
  "kernelspec": {
   "display_name": "Python 3",
   "language": "python",
   "name": "python3"
  },
  "language_info": {
   "codemirror_mode": {
    "name": "ipython",
    "version": 3
   },
   "file_extension": ".py",
   "mimetype": "text/x-python",
   "name": "python",
   "nbconvert_exporter": "python",
   "pygments_lexer": "ipython3",
   "version": "3.6.8"
  }
 },
 "nbformat": 4,
 "nbformat_minor": 2
}
